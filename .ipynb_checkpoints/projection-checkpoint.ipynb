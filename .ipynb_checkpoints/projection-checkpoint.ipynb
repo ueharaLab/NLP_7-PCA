{
 "cells": [
  {
   "cell_type": "markdown",
   "id": "c096b6f8-c3b5-4d86-b33e-61f72b62f6ad",
   "metadata": {},
   "source": [
    "# 射影の演習\n",
    "### 1. ベクトルへの射影\n",
    "射影行列: $\\frac{aa^T}{a^Ta}$\n",
    "\n",
    "1 射影行列を作成する"
   ]
  },
  {
   "cell_type": "code",
   "execution_count": 4,
   "id": "3e72d0b1-f766-4c98-abb5-12128b5f32ba",
   "metadata": {},
   "outputs": [
    {
     "name": "stdout",
     "output_type": "stream",
     "text": [
      "[[0.11111111 0.22222222 0.22222222]\n",
      " [0.22222222 0.44444444 0.44444444]\n",
      " [0.22222222 0.44444444 0.44444444]]\n"
     ]
    }
   ],
   "source": [
    "\n",
    "import numpy as np\n",
    "a = np.array([1,2,2])\n",
    "denom = np.dot(a,a)\n",
    "\n"
   ]
  },
  {
   "cell_type": "markdown",
   "id": "97d2594b-f5a9-4a34-90e8-15c58bd7fbdc",
   "metadata": {},
   "source": [
    "2. 射影を関数にする"
   ]
  },
  {
   "cell_type": "code",
   "execution_count": 16,
   "id": "99a6cf81-9633-43f8-9f0b-9fcd58107b69",
   "metadata": {},
   "outputs": [
    {
     "name": "stdout",
     "output_type": "stream",
     "text": [
      "[[0.55555556]\n",
      " [1.11111111]\n",
      " [1.11111111]]\n"
     ]
    }
   ],
   "source": [
    "import numpy as np\n",
    "def projection1d(b):\n",
    "    a = np.array([1,2,2])\n",
    "    denom = np.dot(a,a)\n",
    "    \n",
    "    return p\n",
    "    \n",
    "b=np.array([1,1,1]).reshape(-1,1)\n",
    "p = projection1d(b)\n",
    "print(p)"
   ]
  },
  {
   "cell_type": "markdown",
   "id": "3b821c99-cb1e-43f7-a255-db0ed2036c63",
   "metadata": {},
   "source": [
    "### 2. 平面への射影\n",
    "\n",
    "1. 射影行列 $A(A^TA)^{-1}A^T$  \n",
    "     $A=[a_1,a_2]$"
   ]
  },
  {
   "cell_type": "code",
   "execution_count": 30,
   "id": "9cf730ba-2ffe-4585-8e77-ff2158a00531",
   "metadata": {},
   "outputs": [
    {
     "name": "stdout",
     "output_type": "stream",
     "text": [
      "[[1 0]\n",
      " [1 1]\n",
      " [1 2]]\n"
     ]
    }
   ],
   "source": [
    "import numpy as np\n",
    "A=\n",
    "print(A)"
   ]
  },
  {
   "cell_type": "code",
   "execution_count": 34,
   "id": "08eb7dc9-ba38-43b5-9958-319bcd991e1c",
   "metadata": {},
   "outputs": [
    {
     "data": {
      "text/plain": [
       "array([[ 0.83333333,  0.33333333, -0.16666667],\n",
       "       [ 0.33333333,  0.33333333,  0.33333333],\n",
       "       [-0.16666667,  0.33333333,  0.83333333]])"
      ]
     },
     "execution_count": 34,
     "metadata": {},
     "output_type": "execute_result"
    }
   ],
   "source": []
  },
  {
   "cell_type": "markdown",
   "id": "e5dd41dc-5080-431b-91b1-d024d72f199a",
   "metadata": {},
   "source": [
    "2. 射影を関数にする"
   ]
  },
  {
   "cell_type": "code",
   "execution_count": 38,
   "id": "dc1751d1-a2f6-40e2-a0c9-982b5a49c4d6",
   "metadata": {},
   "outputs": [
    {
     "name": "stdout",
     "output_type": "stream",
     "text": [
      "[[ 5.]\n",
      " [ 2.]\n",
      " [-1.]]\n"
     ]
    }
   ],
   "source": [
    "def projection2d(b):\n",
    "    \n",
    "    return p\n",
    "\n",
    "b=np.array([6,0,0]).reshape(-1,1)\n",
    "p = projection2d(b)\n",
    "print(p)"
   ]
  },
  {
   "cell_type": "code",
   "execution_count": null,
   "id": "399a2def-110a-4fb7-962a-108c1e451755",
   "metadata": {},
   "outputs": [],
   "source": []
  }
 ],
 "metadata": {
  "kernelspec": {
   "display_name": "Python 3 (ipykernel)",
   "language": "python",
   "name": "python3"
  },
  "language_info": {
   "codemirror_mode": {
    "name": "ipython",
    "version": 3
   },
   "file_extension": ".py",
   "mimetype": "text/x-python",
   "name": "python",
   "nbconvert_exporter": "python",
   "pygments_lexer": "ipython3",
   "version": "3.11.7"
  }
 },
 "nbformat": 4,
 "nbformat_minor": 5
}
